{
 "cells": [
  {
   "cell_type": "code",
   "execution_count": null,
   "metadata": {},
   "outputs": [],
   "source": [
    "# import python's module\n",
    "import numpy as np\n",
    "import pandas as pd\n",
    "import json"
   ]
  },
  {
   "cell_type": "code",
   "execution_count": null,
   "metadata": {},
   "outputs": [],
   "source": [
    "# load data\n",
    "log_df = pd.read_csv(\"operation-log.csv\").replace(np.nan, None)\n",
    "log_df"
   ]
  },
  {
   "cell_type": "code",
   "execution_count": null,
   "metadata": {},
   "outputs": [],
   "source": [
    "operators = []\n",
    "for person in log_df['operator'].unique():\n",
    "    operators.append({\n",
    "        \"firstname\": person,\n",
    "        \"lastname\": \"\",\n",
    "        \"phone\": \"\"\n",
    "    })\n",
    "operator_df = pd.DataFrame(operators)\n",
    "\n",
    "operators = []\n",
    "for index, row in operator_df.iterrows():\n",
    "    operators.append({\n",
    "        \"model\": \"acrelog.operator\", \n",
    "        \"pk\": index+1,\n",
    "        \"fields\": {\n",
    "            \"firstname\": row['firstname']\n",
    "        }\n",
    "    })\n",
    "operators"
   ]
  },
  {
   "cell_type": "code",
   "execution_count": null,
   "metadata": {},
   "outputs": [],
   "source": [
    "with open('operator-data.json', 'w') as fp:\n",
    "    json.dump(operators, fp=fp, indent=4)"
   ]
  },
  {
   "cell_type": "code",
   "execution_count": null,
   "metadata": {},
   "outputs": [],
   "source": [
    "locations = []\n",
    "for field in log_df['location'].unique():\n",
    "    locations.append({\n",
    "        \"name\": field,\n",
    "        \"zipcode\": \"\",\n",
    "    })\n",
    "location_df = pd.DataFrame(locations)\n",
    "\n",
    "locations = []\n",
    "for index, row in location_df.iterrows():\n",
    "    locations.append({\n",
    "        \"model\": \"acrelog.field\", \n",
    "        \"pk\": index+1,\n",
    "        \"fields\": {\n",
    "            \"name\": row['name']\n",
    "        }\n",
    "    })\n",
    "locations"
   ]
  },
  {
   "cell_type": "code",
   "execution_count": null,
   "metadata": {},
   "outputs": [],
   "source": [
    "with open('location-data.json', 'w') as fp:\n",
    "    json.dump(locations, fp=fp, indent=4)"
   ]
  },
  {
   "cell_type": "code",
   "execution_count": null,
   "metadata": {},
   "outputs": [],
   "source": [
    "machines = []\n",
    "for machine in log_df['Power Unit'].unique():\n",
    "    if machine in [None, 'Not applicable']: \n",
    "        continue\n",
    "    machines.append({\n",
    "        \"name\": machine\n",
    "    })\n",
    "machine_df = pd.DataFrame(machines)\n",
    "\n",
    "machines = []\n",
    "for index, row in machine_df.iterrows():\n",
    "    machines.append({\n",
    "        \"model\": \"acrelog.machine\", \n",
    "        \"pk\": index+1,\n",
    "        \"fields\": {\n",
    "            \"name\": row['name']\n",
    "        }\n",
    "    })\n",
    "machines"
   ]
  },
  {
   "cell_type": "code",
   "execution_count": null,
   "metadata": {},
   "outputs": [],
   "source": [
    "with open('machine-data.json', 'w') as fp:\n",
    "    json.dump(machines, fp=fp, indent=4)"
   ]
  },
  {
   "cell_type": "code",
   "execution_count": null,
   "metadata": {},
   "outputs": [],
   "source": [
    "seeds = []\n",
    "for seed in log_df['Seeds planted'].unique():\n",
    "    if seed in [None]: \n",
    "        continue\n",
    "    plant, genotype = seed.split(' - ')\n",
    "    seeds.append({\n",
    "        \"plant\": plant,\n",
    "        \"genotype\": genotype,\n",
    "        \"name\": seed\n",
    "    })\n",
    "seed_df = pd.DataFrame(seeds)\n",
    "\n",
    "seeds = []\n",
    "for index, row in seed_df.iterrows():\n",
    "    seeds.append({\n",
    "        \"model\": \"acrelog.seed\", \n",
    "        \"pk\": index+1,\n",
    "        \"fields\": {\n",
    "            \"plant\": row['plant'],\n",
    "            \"genotype\": row['genotype']\n",
    "        }\n",
    "    })\n",
    "seeds"
   ]
  },
  {
   "cell_type": "code",
   "execution_count": null,
   "metadata": {},
   "outputs": [],
   "source": [
    "with open('seed-data.json', 'w') as fp:\n",
    "    json.dump(seeds, fp=fp, indent=4)"
   ]
  },
  {
   "cell_type": "code",
   "execution_count": null,
   "metadata": {},
   "outputs": [],
   "source": [
    "sub_log_df = log_df.copy()\n",
    "sub_log_df"
   ]
  },
  {
   "cell_type": "code",
   "execution_count": null,
   "metadata": {},
   "outputs": [],
   "source": [
    "sub_log_df['Fertilizers applied'] = log_df['Fertilizers applied'].apply(lambda x: \", \".join(sorted(x.split(\",\"))) if x else None)\n",
    "sub_log_df"
   ]
  },
  {
   "cell_type": "code",
   "execution_count": null,
   "metadata": {},
   "outputs": [],
   "source": [
    "OPERATION_TYPES = [\n",
    "    (\"tillage\", \"Tillage\"),\n",
    "    (\"plant\", \"Plant\"),\n",
    "    (\"spray\", \"Spread/Spray\"),\n",
    "    (\"soil\", \"Soil Sampled\"),\n",
    "    (\"harvest\", \"Harvest\"),\n",
    "    (\"other\", \"Other\"),\n",
    "]\n",
    "\n",
    "operation_type = {}\n",
    "for x in OPERATION_TYPES:\n",
    "    operation_type[x[1]] = x[0]\n",
    "operation_type"
   ]
  },
  {
   "cell_type": "code",
   "execution_count": null,
   "metadata": {},
   "outputs": [],
   "source": [
    "sub_log_df['operator'] = log_df['operator'].map(dict((v, k+1) for k, v in operator_df.to_dict()['firstname'].items()))\n",
    "sub_log_df"
   ]
  },
  {
   "cell_type": "code",
   "execution_count": null,
   "metadata": {},
   "outputs": [],
   "source": [
    "sub_log_df['location'] = log_df['location'].map(dict((v, k+1) for k, v in location_df.to_dict()['name'].items()))\n",
    "sub_log_df"
   ]
  },
  {
   "cell_type": "code",
   "execution_count": null,
   "metadata": {},
   "outputs": [],
   "source": [
    "sub_log_df['Power Unit'] = log_df['Power Unit'].map(dict((v, k+1) for k, v in machine_df.to_dict()['name'].items()))\n",
    "sub_log_df['Power Unit'] = sub_log_df['Power Unit'].replace(np.nan, None)\n",
    "sub_log_df"
   ]
  },
  {
   "cell_type": "code",
   "execution_count": null,
   "metadata": {},
   "outputs": [],
   "source": [
    "sub_log_df['Seeds planted'] = log_df['Seeds planted'].map(dict((v, k+1) for k, v in seed_df.to_dict()['name'].items()))\n",
    "sub_log_df['Seeds planted'] = sub_log_df['Seeds planted'].replace(np.nan, None)\n",
    "sub_log_df"
   ]
  },
  {
   "cell_type": "code",
   "execution_count": null,
   "metadata": {},
   "outputs": [],
   "source": [
    "sub_log_df['operation'] = log_df['operation'].map(operation_type)\n",
    "sub_log_df"
   ]
  },
  {
   "cell_type": "code",
   "execution_count": null,
   "metadata": {},
   "outputs": [],
   "source": [
    "sub_log_df[~sub_log_df['Seeds planted'].isna()]"
   ]
  },
  {
   "cell_type": "code",
   "execution_count": null,
   "metadata": {},
   "outputs": [],
   "source": [
    "sub_log_df['date'] = pd.to_datetime(sub_log_df['date']).dt.strftime('%Y-%m-%d')"
   ]
  },
  {
   "cell_type": "code",
   "execution_count": null,
   "metadata": {},
   "outputs": [],
   "source": [
    "logs = []\n",
    "for index, row in sub_log_df.iterrows():\n",
    "    logs.append({\n",
    "        \"model\": \"acrelog.operation\", \n",
    "        \"pk\": index+1,\n",
    "        \"fields\": {\n",
    "            \"date\": row['date'],\n",
    "            \"location\": row['location'],\n",
    "            \"operator\": row['operator'],\n",
    "            \"operation_type\": row['operation'],\n",
    "            \"note\": row['note'],\n",
    "            \"tool\": row['Power Unit'],\n",
    "            \"seed\": row['Seeds planted'],\n",
    "            \"seed_rate\": row['Seeding Rate (seeds/ac)'],\n",
    "            \"fertillizer\": row['Fertilizers applied'],\n",
    "            \"fertiliizer_rate\": row['Fertilizer Rate (lb/ac)']\n",
    "        }\n",
    "    })\n",
    "logs"
   ]
  },
  {
   "cell_type": "code",
   "execution_count": null,
   "metadata": {},
   "outputs": [],
   "source": [
    "with open('log-data.json', 'w') as fp:\n",
    "    json.dump(logs, fp=fp, indent=4)"
   ]
  }
 ],
 "metadata": {
  "kernelspec": {
   "display_name": "asm591",
   "language": "python",
   "name": "python3"
  },
  "language_info": {
   "codemirror_mode": {
    "name": "ipython",
    "version": 3
   },
   "file_extension": ".py",
   "mimetype": "text/x-python",
   "name": "python",
   "nbconvert_exporter": "python",
   "pygments_lexer": "ipython3",
   "version": "3.11.4"
  }
 },
 "nbformat": 4,
 "nbformat_minor": 2
}
