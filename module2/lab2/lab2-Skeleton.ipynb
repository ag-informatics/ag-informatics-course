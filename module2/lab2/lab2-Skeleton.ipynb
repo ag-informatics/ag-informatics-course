{
 "cells": [
  {
   "cell_type": "markdown",
   "metadata": {},
   "source": [
    "# ASM 59100 - Lab 2\n",
    "# Exploring USDA NASS Data using Python"
   ]
  },
  {
   "cell_type": "markdown",
   "metadata": {},
   "source": [
    "In this lab, you will be exposed to basic exploratory data analysis techniques using Python. The objectives of this lab are as follows:\n",
    "\n",
    "    1) Setup Anaconda and Jupyter Notebooks\n",
    "    2) Download a publicly available dataset\n",
    "    3) Import the data using Pandas \n",
    "    4) Parse and clean the data \n",
    "    5) Loop over the dataset in order to find specific items within the datasets\n",
    "    6) Use different plotting tools in order to represent the data visually\n",
    "    7) Observe and report trends from the dataset\n",
    " "
   ]
  },
  {
   "cell_type": "markdown",
   "metadata": {},
   "source": [
    "# Part 1: Processing Data"
   ]
  },
  {
   "cell_type": "markdown",
   "metadata": {},
   "source": [
    "## 1. Acquire the U.S Historical Corn Prices Dataset."
   ]
  },
  {
   "cell_type": "markdown",
   "metadata": {},
   "source": [
    "The United States Department of Agriculture (USDA) National Agricultural Statistical Service (NASS) hosts a large collection of agricultural data, from the National Ag Census, to monthly and/or county-level agricultural data. \n",
    "\n",
    "Begin at the USDA NASS website: https://www.nass.usda.gov/\n",
    "\n",
    "We'll walk through the process for obtaining a National dataset of Corn Prices as part of this lab. You'll learn how to craft a query using the NASS Quick Stats web interface, and this will give you a feel for how data is organized. Once you're familiar with how to query NASS, you can explore and see what other data is out there! \n",
    "\n",
    "Follow the steps in order to obtain the dataset (you may have to wait a few seconds before the next step loads on the website). The image below shows what your selection should look like before you hit the \"Get Data\" button in step 15.\n",
    "\n",
    "   1) Navigate to the **Data and Statistics** tab\n",
    "   \n",
    "   2) Click on **Access Quick Stats**\n",
    "   \n",
    "   3) Under **Program**, select **Survey**\n",
    "   \n",
    "   4) Under **Sector**, select **Crops**\n",
    "   \n",
    "   5) Under **Group**, select **Field Crops**\n",
    "   \n",
    "   6) Under **Commodity**, select **Corn**\n",
    "   \n",
    "   7) Under **Category**, select **Price Received**\n",
    "   \n",
    "   8) Under **Data Item**, select **Corn, Grain, - Price Received Measured in Dollar/Bu**\n",
    "   \n",
    "   9) Under **Domain**, select **Total**\n",
    "   \n",
    "   10) Under **Geographic Level**, select **State**\n",
    "   \n",
    "   11) Under **State**, hold **SHIFT** and select all the states\n",
    "   \n",
    "   12) Under **Year**, hold **SHIFT** and select years from 1997 to 2021\n",
    "   \n",
    "   13) Under **Period Time**, select **Annual**\n",
    "   \n",
    "   14) Under **Period**, select **Marketing Year**\n",
    "   \n",
    "   15) Click on **Get Data**\n",
    "   \n",
    "   16) After the data loads after a few minutes, select on **Spreadsheet** on the upper right corner"
   ]
  },
  {
   "cell_type": "markdown",
   "metadata": {},
   "source": [
    "<img src=\"img/Capture.PNG\"/>"
   ]
  },
  {
   "cell_type": "markdown",
   "metadata": {},
   "source": [
    "The file we have downloaded is in an Excel spreadsheet format. Open this file with Excel, and \"Export\" it as a CSV file.\n",
    "\n",
    "**Name the file \"dirty-cornprices.csv\" since this data is raw and has not been cleaned. Place this file in the same folder as your Lab 2 Jupyter Notebook file.** \n",
    "\n",
    "Push your changes to github and confirm that this CSV file is also in your repository now!"
   ]
  },
  {
   "cell_type": "markdown",
   "metadata": {},
   "source": [
    "Open the CSV in a spreadsheet software like Excel. You'll notice a lot of empty columns. Scroll through the \"Value\" column, that is the value of \"Corn, Grain - Price Received, Measured in $ / Bu\". You'll notice a few entries that are \" (NA)\" -- this means the data was Not Available and it was marked as missing. \n",
    "\n",
    "These are the types of things that require \"cleaning\". We'll do this in Python next."
   ]
  },
  {
   "cell_type": "markdown",
   "metadata": {},
   "source": [
    "## 2. Import the data using Pandas "
   ]
  },
  {
   "cell_type": "code",
   "execution_count": null,
   "metadata": {},
   "outputs": [],
   "source": [
    "# import pandas, matplotlib.pyplot, and numpy libraries as pd, plt, and np, respectively. \n",
    "\n",
    "# Enter code here ..."
   ]
  },
  {
   "cell_type": "markdown",
   "metadata": {},
   "source": [
    "**First, use the \"read_csv()\" function in pandas to import the \"dirty-cornprices.csv\" file into a pandas DataFrame: https://pandas.pydata.org/docs/reference/api/pandas.read_csv.html**\n",
    "\n",
    "Note: instead of using a standard \"print\", we've simply written the name of the variable, and Python has inbuilt functionality to print out DataFrame in a neatly formatted manner. \n",
    "Note Note: This neatly formatted manner is a combination of the head() and tail () functions."
   ]
  },
  {
   "cell_type": "code",
   "execution_count": null,
   "metadata": {},
   "outputs": [],
   "source": [
    "# Use pandas to read the file \"dirty-cornprices.csv\" \n",
    "dirty_CORN =  # Enter code here ...\n",
    "\n",
    "# Print the data frame called \"dirty_CORN\""
   ]
  },
  {
   "cell_type": "markdown",
   "metadata": {},
   "source": [
    "## 3. Inspect the Data"
   ]
  },
  {
   "cell_type": "markdown",
   "metadata": {},
   "source": [
    "Now that you have imported the data, let's print the first 5 rows of the data to ensure the data was imported correctly. \n",
    "\n",
    "**Use the \"head()\" function to show us the first few rows of the data: https://pandas.pydata.org/docs/reference/api/pandas.DataFrame.head.html**"
   ]
  },
  {
   "cell_type": "code",
   "execution_count": null,
   "metadata": {},
   "outputs": [],
   "source": [
    "# Show the start of the data using the head function\n",
    "\n",
    "# Enter code here ..."
   ]
  },
  {
   "cell_type": "markdown",
   "metadata": {},
   "source": [
    "**Use the \"tail()\" function to display the last 5 rows, or \"tail\" of the dataset: https://pandas.pydata.org/docs/reference/api/pandas.DataFrame.tail.html?**"
   ]
  },
  {
   "cell_type": "code",
   "execution_count": null,
   "metadata": {},
   "outputs": [],
   "source": [
    "# Show the end of the data using the tail function\n",
    "\n",
    "# Enter code here ..."
   ]
  },
  {
   "cell_type": "markdown",
   "metadata": {},
   "source": [
    "**1. CANDIDATE FOR CLEANING:** \"NaN\" stands for \"Not a Number\". This means the data is missing and the column is a candidate to be removed."
   ]
  },
  {
   "cell_type": "markdown",
   "metadata": {},
   "source": [
    "Let's sort the dataset by the 'Value' column to see if the data is uniformly numbers, or if any erroneous letters or other junk data exist. \n",
    "\n",
    "**Use the \"sort_values()\" function to sort by the 'Value; Column': https://pandas.pydata.org/pandas-docs/stable/reference/api/pandas.DataFrame.sort_values.html**"
   ]
  },
  {
   "cell_type": "code",
   "execution_count": null,
   "metadata": {},
   "outputs": [],
   "source": [
    "#Sort by 'Value'\n",
    "\n",
    "#Enter code here..."
   ]
  },
  {
   "cell_type": "markdown",
   "metadata": {},
   "source": [
    "**2. CANDIDATE FOR CLEANING:** We see the phrase \" (NA)\" rise to the top, indicated data is Not Available. We'll need to remove these rows later too. Run the following code to see how many rows we'll need to delete!"
   ]
  },
  {
   "cell_type": "code",
   "execution_count": null,
   "metadata": {},
   "outputs": [],
   "source": [
    "#Run this code\n",
    "dirty_CORN['Value'].str.contains('NA').sum()"
   ]
  },
  {
   "cell_type": "markdown",
   "metadata": {},
   "source": [
    "It's a good idea check the size of the data to ensure you haven't lost useful data. It's a good practice to check the size of the data at multiple points during your assignment.\n",
    "\n",
    "**Use the \"shape\" method: https://pandas.pydata.org/docs/reference/api/pandas.DataFrame.shape.html**"
   ]
  },
  {
   "cell_type": "code",
   "execution_count": null,
   "metadata": {},
   "outputs": [],
   "source": [
    "# Show the size of the dataset (rows, cols)\n",
    "\n",
    "# Enter code here ..."
   ]
  },
  {
   "cell_type": "markdown",
   "metadata": {},
   "source": [
    "## 4. Clean the data"
   ]
  },
  {
   "cell_type": "markdown",
   "metadata": {},
   "source": [
    "Let's start by removing the columns with missing data that we found earlier - the columns consisting only \"NaN\".\n",
    "\n",
    "**Use the \".dropna()\" function to remove all data entries with missing values. For help with this task, consult this tutorial: https://pandas.pydata.org/docs/reference/api/pandas.DataFrame.dropna.html. Hint: You will use three parameters: how, axis, and inplace.**"
   ]
  },
  {
   "cell_type": "code",
   "execution_count": null,
   "metadata": {},
   "outputs": [],
   "source": [
    "# Remove empty columns from raw_data. Show the head of the data to see what columns remain.\n",
    "\n",
    "# Enter code here ..."
   ]
  },
  {
   "cell_type": "markdown",
   "metadata": {},
   "source": [
    "We'lll have to manually remove a few more rows with missing or repetitive columns that are't useful: columns \"Program\", \"Geo Level\", \"watershed_code\", \"Commodity\", \"Domain\", and \"Domain Category\" can all go. Let's drop them too!\n",
    "\n",
    "**Use the \"drop()\" function in order to specify which columns to remove: https://pandas.pydata.org/pandas-docs/stable/reference/api/pandas.DataFrame.drop.html**"
   ]
  },
  {
   "cell_type": "code",
   "execution_count": null,
   "metadata": {},
   "outputs": [],
   "source": [
    "# Remove columns the following columns: 'Program', 'Geo Level', 'Commodity', 'watershed_code', 'Domain', 'Domain Category'. \n",
    "# Display the head() to see what remains.\n",
    "\n",
    "# Enter code here ..."
   ]
  },
  {
   "cell_type": "code",
   "execution_count": null,
   "metadata": {},
   "outputs": [],
   "source": [
    "# Print the shape of the data to ensure the empty columns have been removed, and that no rows have been lost.\n",
    "\n",
    "# Enter code here ..."
   ]
  },
  {
   "cell_type": "markdown",
   "metadata": {},
   "source": [
    "Next, let's remove the rows with \" (NA)\" in them.\n",
    "\n",
    "**Remove the rows containing ' (NA)' in the 'Value' column using the \"drop()\" function.** To identify the rows that need removing, you will first subset the DataFrame using an appropriate boolean expression and then apply the \"index\" method (https://pandas.pydata.org/pandas-docs/stable/reference/api/pandas.DataFrame.index.html). \n",
    "\n",
    "**For example, the expression dirty_CORN[dirty_CORN['Year'] == 2020] will output only the entries where the Year column entry is 2020. You'll need to construct a similar expression to find the ' (NA)' Values**"
   ]
  },
  {
   "cell_type": "code",
   "execution_count": null,
   "metadata": {},
   "outputs": [],
   "source": [
    "# some of the values are missing and contain the string \" (NA)\"\n",
    "# First identify the offending rows by subsetting the array. Use the index and remove those rows from unclean.\n",
    "\n",
    "# Enter code here ..."
   ]
  },
  {
   "cell_type": "markdown",
   "metadata": {},
   "source": [
    "Run the code in the block below. You'll notice that the Value column has the variable type str, that is a \"String\", which is usually used to represent text. We need this to be a float, a number, so that we can plot it later!"
   ]
  },
  {
   "cell_type": "code",
   "execution_count": null,
   "metadata": {},
   "outputs": [],
   "source": [
    "#Run this code\n",
    "type(dirty_CORN['Value'][0])"
   ]
  },
  {
   "cell_type": "markdown",
   "metadata": {},
   "source": [
    "**Because of the ' (NA)', the 'Value' column was imported as a string. This will cause issues when plotting. We can convert the \"Value\" column to float using the \"astype()\" function https://pandas.pydata.org/pandas-docs/stable/reference/api/pandas.DataFrame.astype.html**"
   ]
  },
  {
   "cell_type": "code",
   "execution_count": null,
   "metadata": {},
   "outputs": [],
   "source": [
    "# Replace the dirty_CORN['Value'] column with the same values except with the type 'float'\n",
    "\n",
    "#Enter code here..."
   ]
  },
  {
   "cell_type": "markdown",
   "metadata": {},
   "source": [
    "Currently, the data is organized with respect to the year in descending order. \n",
    "\n",
    "Let's sort the data using two criteria: first sort it alphabetically based on the State name (Alabama to Wyoming) and then in ascending year (from 1997 to 2021). \n",
    "\n",
    "**Use the \"sort_values\" function in order to complete this task: https://pandas.pydata.org/docs/reference/api/pandas.DataFrame.sort_values.html**"
   ]
  },
  {
   "cell_type": "code",
   "execution_count": null,
   "metadata": {},
   "outputs": [],
   "source": [
    "# Sort the data based on the State ANSI value (since the numbers increase alphabetically), and then the Year. \n",
    "# Show your result\n",
    "\n",
    "# Enter code here ..."
   ]
  },
  {
   "cell_type": "markdown",
   "metadata": {},
   "source": [
    "You might have noticed that the index looks like garbage. \n",
    "\n",
    "**Let's fix this using the \"reset_index()\" function: https://pandas.pydata.org/pandas-docs/stable/reference/api/pandas.DataFrame.reset_index.html Consider specifying the drop parameter as True** \n",
    "\n"
   ]
  },
  {
   "cell_type": "code",
   "execution_count": null,
   "metadata": {},
   "outputs": [],
   "source": [
    "# The index is a mess because we've sorted the data and dropped rows. Reset the index. \n",
    "\n",
    "# Enter code here ..."
   ]
  },
  {
   "cell_type": "markdown",
   "metadata": {},
   "source": [
    "Your dataset is now \"clean\" and ready to plot. Let's save it as a new CSV file called \"clean-cornprices.csv\". \n",
    "\n",
    "**Use the \".to_csv\" to save your data frame as a CSV file: https://pandas.pydata.org/docs/reference/api/pandas.DataFrame.to_csv.html**"
   ]
  },
  {
   "cell_type": "code",
   "execution_count": null,
   "metadata": {},
   "outputs": [],
   "source": [
    "# Save your data frame as a CSV file\n",
    "\n",
    "# Enter code here ..."
   ]
  },
  {
   "cell_type": "markdown",
   "metadata": {},
   "source": [
    "## 5. Exploratory Data Analysis"
   ]
  },
  {
   "cell_type": "markdown",
   "metadata": {},
   "source": [
    "Let's begin with some quick stats about the historical average price of Corn, in $/bushel, across all states each year. This also helps us confirm our ability to later plot the data.\n",
    "\n",
    "**Use the \"describe()\" function, to show summary statistics for the \"Value\" column of our data frame: https://pandas.pydata.org/docs/reference/api/pandas.DataFrame.describe.html?**"
   ]
  },
  {
   "cell_type": "code",
   "execution_count": null,
   "metadata": {},
   "outputs": [],
   "source": [
    "# Read the clean-cornprices.csv file into a new data frame called clean_CORN\n",
    "# Enter code here ...\n",
    "\n",
    "# A quick data description of the average price of corn in 2020 across the U.S.\n",
    "# Enter code here ..."
   ]
  },
  {
   "cell_type": "markdown",
   "metadata": {},
   "source": [
    "Let's see what data looks like on a graph. The column \"Year\" should be your x-axis, and the column \"Value\" (which corresponds to the $/bushel of corn) should be your y-axis.\n",
    "\n",
    "**Use the \"plot()\" function in the matplotlib.pyplot library (reminder: imported as plt) to create a default \"line\" plot: https://matplotlib.org/stable/api/_as_gen/matplotlib.pyplot.plot.html**"
   ]
  },
  {
   "cell_type": "code",
   "execution_count": null,
   "metadata": {},
   "outputs": [],
   "source": [
    "# Use matplotlib to create line plots for the corn value in $/Bu against year\n",
    "\n",
    "# Create a plot to display all data all data\n",
    "# Enter code here...\n",
    "\n",
    "#Give your plot a title, x and y axis labels, and activate grid lines.\n",
    "# Enter code here..."
   ]
  },
  {
   "cell_type": "markdown",
   "metadata": {},
   "source": [
    "The default plot function gives us a messy graph of all states on one plot. Messy but a great first step! Note this graph is particularly messy because it's plotting all the states together - so there is a straight line zooming back and forth connecting the end of each plot to the start of the next! \n",
    "\n",
    "Next, we'll clean things up a little and plot more useful selections of our data."
   ]
  },
  {
   "cell_type": "markdown",
   "metadata": {},
   "source": [
    "## 6. Exploratory Data Analysis"
   ]
  },
  {
   "cell_type": "markdown",
   "metadata": {},
   "source": [
    "### Plot 1: Average corn price in the US over time."
   ]
  },
  {
   "cell_type": "markdown",
   "metadata": {},
   "source": [
    "Let's create a graph that shows us the average price of corn, in $/bu, from 1997 - 2020.\n",
    "\n",
    "**Use the groupby() and describe() functions to output a table describing the default summary statistics for each year: https://pandas.pydata.org/pandas-docs/stable/reference/api/pandas.DataFrame.groupby.html?**"
   ]
  },
  {
   "cell_type": "code",
   "execution_count": null,
   "metadata": {},
   "outputs": [],
   "source": [
    "# Display summary stats grouped by Year\n",
    "# Enter code here..."
   ]
  },
  {
   "cell_type": "markdown",
   "metadata": {},
   "source": [
    "Now that we know how to use the groupby() function, we can tweak it, combine it with the mean() function ONLY, and plot it!\n",
    "\n",
    "We've included some basic commands in the next section to format your plot and get you started.\n",
    "\n",
    "**Use the groupby() and mean() functions to output a table describing the default summary statistics for each year: https://pandas.pydata.org/pandas-docs/stable/reference/api/pandas.DataFrame.groupby.html?**\n",
    "\n",
    "**Use the plt.plot() function to plot everything: https://matplotlib.org/stable/api/_as_gen/matplotlib.pyplot.plot.html**"
   ]
  },
  {
   "cell_type": "code",
   "execution_count": null,
   "metadata": {},
   "outputs": [],
   "source": [
    "#Find the mean price of corn ('Value') for each year. Use the groupby() and mean() functions. \n",
    "#Use plt.plot() to plot the result\n",
    "\n",
    "# Some basic functionality to make the graphs larger\n",
    "plt.figure(figsize=(10, 8))\n",
    "\n",
    "# Create a plot for the mean US totals\n",
    "# Enter code here...\n",
    "\n",
    "#Give your plot a title, x any y axis labels, and activate grid lines.\n",
    "# Enter code here...\n",
    "\n",
    "# Save the plot as a PNG file - check it out, you should have a file with this name in your folder now! \n",
    "# MAKE SURE YOU RUN THIS - I will expect this image in your submission folder\n",
    "plt.savefig('meancorn', format='png', dpi=140)"
   ]
  },
  {
   "cell_type": "markdown",
   "metadata": {},
   "source": [
    "### Plot 2: A single plot showing corn prices over time for Indiana, Iowa, and Illinois."
   ]
  },
  {
   "cell_type": "markdown",
   "metadata": {},
   "source": [
    "**For help with Pandas data frames, consult this tutorial: https://datacarpentry.org/python-ecology-lesson/03-index-slice-subset/index.html. This reference will help you identify how to subset the data to obtain Indiana, Iowa, and Illinois values.**"
   ]
  },
  {
   "cell_type": "code",
   "execution_count": null,
   "metadata": {},
   "outputs": [],
   "source": [
    "# Some basic functionality to make the graphs larger\n",
    "plt.figure(figsize=(10, 8))\n",
    "\n",
    "# Create plots for each of the three states. Make sure you include a 'label' in each plot for the legend.\n",
    "# Enter code here...\n",
    "\n",
    "# Give your plot a title, plot x any y axis labels, a legend, and activate grid lines.\n",
    "# Enter code here...\n",
    "\n",
    "# Save the plot as a PNG file - check it out, you should have a file with this name in your folder now! \n",
    "# MAKE SURE YOU RUN THIS - I will expect this image in your submission folder\n",
    "plt.savefig('istatescorn', format='png', dpi=140)"
   ]
  },
  {
   "cell_type": "markdown",
   "metadata": {},
   "source": [
    "### Plot 3: Plot the State with the highest and lowest average price, as well as the average US price, on one graph."
   ]
  },
  {
   "cell_type": "markdown",
   "metadata": {},
   "source": [
    "First, let's identify which States have the highest and lowest average prices. We'll do this in stages and there's a little trick with resetting the index so we'll help :)"
   ]
  },
  {
   "cell_type": "code",
   "execution_count": null,
   "metadata": {},
   "outputs": [],
   "source": [
    "#Use groupby() and mean() like we did before, to figure out the mean Values per State. \n",
    "# Assign the result to the variable \"cornStateAverage\"\n",
    "cornStateAverage = #enter code here\n",
    "\n",
    "# In the previous statement, you'll see that the Value column is no longer labeled, and we've lost our index column.\n",
    "#(if you just type out \"cornStateAverage\" to see what the data frame looks like)\n",
    "# This statement resets the index, i.e., it adds a column that indexes the whole data frame so that we can do \n",
    "# lookups again!\n",
    "cornStateAverage = cornStateAverage.reset_index()\n",
    "\n",
    "# Now you can simply use the min() function to identify which State has the lowest mean value.\n",
    "# Enter code here..."
   ]
  },
  {
   "cell_type": "code",
   "execution_count": null,
   "metadata": {},
   "outputs": [],
   "source": [
    "# And use the max() function to identify which State has the lowest mean value.\n",
    "# Enter code here..."
   ]
  },
  {
   "cell_type": "markdown",
   "metadata": {},
   "source": [
    "Now that we know which 2 states have the lowest and highest values, we can create plots for each of them, and add them to our graph that has the US Total averages."
   ]
  },
  {
   "cell_type": "code",
   "execution_count": null,
   "metadata": {},
   "outputs": [],
   "source": [
    "# Some basic functionality to make the graphs larger\n",
    "plt.figure(figsize=(10, 8))\n",
    "\n",
    "#Plot line for the State with the max value. Make sure you include a 'label' for the legend.\n",
    "# Enter code here...\n",
    "\n",
    "#Plot line for average US value (same as previous graph)\n",
    "# Enter code here...\n",
    "\n",
    "#Plot line for the State with the min value. Make sure you include a 'label' for the legend.\n",
    "# Enter code here...\n",
    "\n",
    "# Give your a title, plot x any y axis labels, a legend, and activate grid lines.\n",
    "# Enter code here...\n",
    "\n",
    "# Save the plot as a PNG file - check it out, you should have a file with this name in your folder now! \n",
    "# MAKE SURE YOU RUN THIS - I will expect this image in your submission folder\n",
    "plt.savefig('corndeviation', format='png', dpi=140)"
   ]
  },
  {
   "cell_type": "markdown",
   "metadata": {},
   "source": [
    "### Plot 4: A single plot that shows corn prices and ag land values overlayed for Indiana only."
   ]
  },
  {
   "cell_type": "markdown",
   "metadata": {},
   "source": [
    "Now, let's bring in some new data so that we can really learn more about how corn prices and agricultural land values affect each other.\n",
    "\n",
    "We've already downloaded and cleaned a dataset for US Agricutlural Land Values from https://www.nass.usda.gov/ as shown in the image below:"
   ]
  },
  {
   "cell_type": "markdown",
   "metadata": {},
   "source": [
    "<img src=\"img/Capture2.PNG\"/>"
   ]
  },
  {
   "cell_type": "markdown",
   "metadata": {},
   "source": [
    "We've already cleaned the data for you, just like you did in Steps 3 & 4 for the corn prices. The Ag Land Value dataset was a littler dirtier and we had to do a few extra things:\n",
    "1. The Value column had some extra junk data: in addition to ' (NA)', we also found ' (D)', and ' (S)'.\n",
    "2. The Values themselves couldn't be converted directly to floats as the strings representing the numbers had commas, e.g., \"3,500\". So we stripped the strings of the commas, and THEN converted to float.\n",
    "\n",
    "We tell you this, just in case you'd like to download the data and try cleaning it yourself ;)\n",
    "\n",
    "Let's load the new dataset in (if you cloned the github repository correctly, the following code should run just fine)."
   ]
  },
  {
   "cell_type": "code",
   "execution_count": null,
   "metadata": {},
   "outputs": [],
   "source": [
    "#Load agLandValue\n",
    "agLandValue = pd.read_csv('aglandvalues-clean.csv')"
   ]
  },
  {
   "cell_type": "markdown",
   "metadata": {},
   "source": [
    "Now, you'll create two plots for the state of Indiana ONLY. One to represent the clean corn price data from earlier, and the second to represent agricultural land values."
   ]
  },
  {
   "cell_type": "code",
   "execution_count": null,
   "metadata": {},
   "outputs": [],
   "source": [
    "# You will need TWO Y axes (left and right) in one graph. Look up how to create a second Y axis.\n",
    "\n",
    "# Create a plot for corn prices in Indiana over time. Make sure you include a 'label' for the legend.\n",
    "# Enter code here...\n",
    "\n",
    "# Create a plot for agricultural land values in Indiana over time. Make sure you include a 'label' for the legend.\n",
    "# Enter code here...\n",
    "\n",
    "# Give your a title, plot x any y axis labels, a legend, and activate grid lines.\n",
    "# Enter code here...\n",
    "\n",
    "# Save the plot as a PNG file - check it out, you should have a file with this name in your folder now! \n",
    "# MAKE SURE YOU RUN THIS - I will expect this image in your submission folder\n",
    "plt.savefig('indiana-agland-cornprices', format='png', dpi=140)\n"
   ]
  },
  {
   "cell_type": "markdown",
   "metadata": {},
   "source": [
    "What do you notice about this graph? Are there any interesting areas that you would want to explore further? Perhaps something that causes you to ask about what was happening in the world at that moment in time?\n",
    "\n",
    "#### Double Click and Enter Response Here"
   ]
  },
  {
   "cell_type": "markdown",
   "metadata": {},
   "source": [
    "That's all folks! You did it! AWESOME! Submit this lab via github as usual."
   ]
  },
  {
   "cell_type": "markdown",
   "metadata": {},
   "source": [
    "# The End"
   ]
  }
 ],
 "metadata": {
  "kernelspec": {
   "display_name": "Python 3",
   "language": "python",
   "name": "python3"
  },
  "language_info": {
   "codemirror_mode": {
    "name": "ipython",
    "version": 3
   },
   "file_extension": ".py",
   "mimetype": "text/x-python",
   "name": "python",
   "nbconvert_exporter": "python",
   "pygments_lexer": "ipython3",
   "version": "3.8.8"
  }
 },
 "nbformat": 4,
 "nbformat_minor": 4
}
