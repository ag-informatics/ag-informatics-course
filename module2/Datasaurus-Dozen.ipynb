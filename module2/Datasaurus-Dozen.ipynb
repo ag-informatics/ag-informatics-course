{
 "cells": [
  {
   "cell_type": "code",
   "execution_count": 125,
   "id": "8609d3ad",
   "metadata": {},
   "outputs": [],
   "source": [
    "import numpy as np\n",
    "import pandas as pd\n",
    "import matplotlib.pyplot as plt"
   ]
  },
  {
   "cell_type": "code",
   "execution_count": 126,
   "id": "73175a7e",
   "metadata": {
    "scrolled": true
   },
   "outputs": [
    {
     "data": {
      "text/html": [
       "<div>\n",
       "<style scoped>\n",
       "    .dataframe tbody tr th:only-of-type {\n",
       "        vertical-align: middle;\n",
       "    }\n",
       "\n",
       "    .dataframe tbody tr th {\n",
       "        vertical-align: top;\n",
       "    }\n",
       "\n",
       "    .dataframe thead th {\n",
       "        text-align: right;\n",
       "    }\n",
       "</style>\n",
       "<table border=\"1\" class=\"dataframe\">\n",
       "  <thead>\n",
       "    <tr style=\"text-align: right;\">\n",
       "      <th></th>\n",
       "      <th>dataset</th>\n",
       "      <th>x</th>\n",
       "      <th>y</th>\n",
       "    </tr>\n",
       "  </thead>\n",
       "  <tbody>\n",
       "    <tr>\n",
       "      <th>0</th>\n",
       "      <td>dino</td>\n",
       "      <td>55.384600</td>\n",
       "      <td>97.179500</td>\n",
       "    </tr>\n",
       "    <tr>\n",
       "      <th>1</th>\n",
       "      <td>dino</td>\n",
       "      <td>51.538500</td>\n",
       "      <td>96.025600</td>\n",
       "    </tr>\n",
       "    <tr>\n",
       "      <th>2</th>\n",
       "      <td>dino</td>\n",
       "      <td>46.153800</td>\n",
       "      <td>94.487200</td>\n",
       "    </tr>\n",
       "    <tr>\n",
       "      <th>3</th>\n",
       "      <td>dino</td>\n",
       "      <td>42.820500</td>\n",
       "      <td>91.410300</td>\n",
       "    </tr>\n",
       "    <tr>\n",
       "      <th>4</th>\n",
       "      <td>dino</td>\n",
       "      <td>40.769200</td>\n",
       "      <td>88.333300</td>\n",
       "    </tr>\n",
       "    <tr>\n",
       "      <th>...</th>\n",
       "      <td>...</td>\n",
       "      <td>...</td>\n",
       "      <td>...</td>\n",
       "    </tr>\n",
       "    <tr>\n",
       "      <th>1841</th>\n",
       "      <td>wide_lines</td>\n",
       "      <td>33.674442</td>\n",
       "      <td>26.090490</td>\n",
       "    </tr>\n",
       "    <tr>\n",
       "      <th>1842</th>\n",
       "      <td>wide_lines</td>\n",
       "      <td>75.627255</td>\n",
       "      <td>37.128752</td>\n",
       "    </tr>\n",
       "    <tr>\n",
       "      <th>1843</th>\n",
       "      <td>wide_lines</td>\n",
       "      <td>40.610125</td>\n",
       "      <td>89.136240</td>\n",
       "    </tr>\n",
       "    <tr>\n",
       "      <th>1844</th>\n",
       "      <td>wide_lines</td>\n",
       "      <td>39.114366</td>\n",
       "      <td>96.481751</td>\n",
       "    </tr>\n",
       "    <tr>\n",
       "      <th>1845</th>\n",
       "      <td>wide_lines</td>\n",
       "      <td>34.583829</td>\n",
       "      <td>89.588902</td>\n",
       "    </tr>\n",
       "  </tbody>\n",
       "</table>\n",
       "<p>1846 rows × 3 columns</p>\n",
       "</div>"
      ],
      "text/plain": [
       "         dataset          x          y\n",
       "0           dino  55.384600  97.179500\n",
       "1           dino  51.538500  96.025600\n",
       "2           dino  46.153800  94.487200\n",
       "3           dino  42.820500  91.410300\n",
       "4           dino  40.769200  88.333300\n",
       "...          ...        ...        ...\n",
       "1841  wide_lines  33.674442  26.090490\n",
       "1842  wide_lines  75.627255  37.128752\n",
       "1843  wide_lines  40.610125  89.136240\n",
       "1844  wide_lines  39.114366  96.481751\n",
       "1845  wide_lines  34.583829  89.588902\n",
       "\n",
       "[1846 rows x 3 columns]"
      ]
     },
     "execution_count": 126,
     "metadata": {},
     "output_type": "execute_result"
    }
   ],
   "source": [
    "datasaurus = pd.read_csv('data/DatasaurusDozen.tsv', delimiter='\\t')\n",
    "datasaurus"
   ]
  },
  {
   "cell_type": "code",
   "execution_count": 127,
   "id": "7798d049",
   "metadata": {},
   "outputs": [
    {
     "data": {
      "text/plain": [
       "array(['dino', 'away', 'h_lines', 'v_lines', 'x_shape', 'star',\n",
       "       'high_lines', 'dots', 'circle', 'bullseye', 'slant_up',\n",
       "       'slant_down', 'wide_lines'], dtype=object)"
      ]
     },
     "execution_count": 127,
     "metadata": {},
     "output_type": "execute_result"
    }
   ],
   "source": [
    "datasaurus['dataset'].unique()"
   ]
  },
  {
   "cell_type": "code",
   "execution_count": 128,
   "id": "528c09d9",
   "metadata": {},
   "outputs": [],
   "source": [
    "dino = datasaurus[datasaurus.dataset==\"dino\"].drop(columns='dataset')\n",
    "away = datasaurus[datasaurus.dataset==\"away\"].drop(columns='dataset')\n",
    "h_lines = datasaurus[datasaurus.dataset==\"h_lines\"].drop(columns='dataset')\n",
    "v_lines = datasaurus[datasaurus.dataset==\"v_lines\"].drop(columns='dataset')\n",
    "x_shape = datasaurus[datasaurus.dataset==\"x_shape\"].drop(columns='dataset')\n",
    "star = datasaurus[datasaurus.dataset==\"star\"].drop(columns='dataset')\n",
    "high_lines = datasaurus[datasaurus.dataset==\"high_lines\"].drop(columns='dataset')\n",
    "dots = datasaurus[datasaurus.dataset==\"dots\"].drop(columns='dataset')\n",
    "circle = datasaurus[datasaurus.dataset==\"circle\"].drop(columns='dataset')\n",
    "bullseye = datasaurus[datasaurus.dataset==\"bullseye\"].drop(columns='dataset')\n",
    "slant_up = datasaurus[datasaurus.dataset==\"slant_up\"].drop(columns='dataset')\n",
    "slant_down = datasaurus[datasaurus.dataset==\"slant_down\"].drop(columns='dataset')\n",
    "wide_lines = datasaurus[datasaurus.dataset==\"wide_lines\"].drop(columns='dataset')\n",
    "\n",
    "#test\n",
    "#dino\n",
    "#plt.scatter(dino['x'], dino['y'])"
   ]
  },
  {
   "cell_type": "code",
   "execution_count": 129,
   "id": "4b0376e5",
   "metadata": {},
   "outputs": [
    {
     "data": {
      "text/plain": [
       "<Figure size 360x360 with 0 Axes>"
      ]
     },
     "metadata": {},
     "output_type": "display_data"
    },
    {
     "data": {
      "image/png": "[encoded data removed]",
      "text/plain": [
       "<Figure size 720x504 with 12 Axes>"
      ]
     },
     "metadata": {
      "needs_background": "light"
     },
     "output_type": "display_data"
    },
    {
     "data": {
      "image/png": "[encoded data removed]",
      "text/plain": [
       "<Figure size 720x504 with 1 Axes>"
      ]
     },
     "metadata": {
      "needs_background": "light"
     },
     "output_type": "display_data"
    }
   ],
   "source": [
    "plt.figure(figsize=(5,5))\n",
    "figure, axis = plt.subplots(nrows=3, ncols=4, sharex=True, sharey=True)\n",
    "\n",
    "axis[0][0].scatter(away.x, away.y, marker='.')\n",
    "axis[0][1].scatter(h_lines.x, h_lines.y, marker='.')\n",
    "axis[0][2].scatter(v_lines.x, v_lines.y, marker='.')\n",
    "axis[0][3].scatter(x_shape.x, x_shape.y, marker='.')\n",
    "axis[1][0].scatter(star.x, star.y, marker='.')\n",
    "axis[1][1].scatter(high_lines.x, high_lines.y, marker='.')\n",
    "axis[1][2].scatter(dots.x, dots.y, marker='.')\n",
    "axis[1][3].scatter(circle.x, circle.y, marker='.')\n",
    "axis[2][0].scatter(bullseye.x, bullseye.y, marker='.')\n",
    "axis[2][1].scatter(slant_up.x, slant_up.y, marker='.')\n",
    "axis[2][2].scatter(slant_down.x, slant_down.y, marker='.')\n",
    "axis[2][3].scatter(wide_lines.x, wide_lines.y, marker='.')\n",
    "plt.show()\n",
    "\n",
    "plt.scatter(dino.x, dino.y, marker='.')\n",
    "plt.show()"
   ]
  },
  {
   "cell_type": "code",
   "execution_count": 120,
   "id": "764a2365",
   "metadata": {},
   "outputs": [
    {
     "data": {
      "text/html": [
       "<div>\n",
       "<style scoped>\n",
       "    .dataframe tbody tr th:only-of-type {\n",
       "        vertical-align: middle;\n",
       "    }\n",
       "\n",
       "    .dataframe tbody tr th {\n",
       "        vertical-align: top;\n",
       "    }\n",
       "\n",
       "    .dataframe thead th {\n",
       "        text-align: right;\n",
       "    }\n",
       "</style>\n",
       "<table border=\"1\" class=\"dataframe\">\n",
       "  <thead>\n",
       "    <tr style=\"text-align: right;\">\n",
       "      <th></th>\n",
       "      <th>x</th>\n",
       "      <th>y</th>\n",
       "    </tr>\n",
       "  </thead>\n",
       "  <tbody>\n",
       "    <tr>\n",
       "      <th>count</th>\n",
       "      <td>142.000000</td>\n",
       "      <td>142.000000</td>\n",
       "    </tr>\n",
       "    <tr>\n",
       "      <th>mean</th>\n",
       "      <td>54.267341</td>\n",
       "      <td>47.839545</td>\n",
       "    </tr>\n",
       "    <tr>\n",
       "      <th>std</th>\n",
       "      <td>16.768959</td>\n",
       "      <td>26.930275</td>\n",
       "    </tr>\n",
       "    <tr>\n",
       "      <th>min</th>\n",
       "      <td>27.024603</td>\n",
       "      <td>14.365590</td>\n",
       "    </tr>\n",
       "    <tr>\n",
       "      <th>25%</th>\n",
       "      <td>41.034210</td>\n",
       "      <td>20.374135</td>\n",
       "    </tr>\n",
       "    <tr>\n",
       "      <th>50%</th>\n",
       "      <td>56.534732</td>\n",
       "      <td>50.110554</td>\n",
       "    </tr>\n",
       "    <tr>\n",
       "      <th>75%</th>\n",
       "      <td>68.711493</td>\n",
       "      <td>63.548584</td>\n",
       "    </tr>\n",
       "    <tr>\n",
       "      <th>max</th>\n",
       "      <td>86.435897</td>\n",
       "      <td>92.214989</td>\n",
       "    </tr>\n",
       "  </tbody>\n",
       "</table>\n",
       "</div>"
      ],
      "text/plain": [
       "                x           y\n",
       "count  142.000000  142.000000\n",
       "mean    54.267341   47.839545\n",
       "std     16.768959   26.930275\n",
       "min     27.024603   14.365590\n",
       "25%     41.034210   20.374135\n",
       "50%     56.534732   50.110554\n",
       "75%     68.711493   63.548584\n",
       "max     86.435897   92.214989"
      ]
     },
     "execution_count": 120,
     "metadata": {},
     "output_type": "execute_result"
    }
   ],
   "source": [
    "dino.describe()"
   ]
  },
  {
   "cell_type": "code",
   "execution_count": 122,
   "id": "cff34020",
   "metadata": {},
   "outputs": [
    {
     "data": {
      "text/html": [
       "<div>\n",
       "<style scoped>\n",
       "    .dataframe tbody tr th:only-of-type {\n",
       "        vertical-align: middle;\n",
       "    }\n",
       "\n",
       "    .dataframe tbody tr th {\n",
       "        vertical-align: top;\n",
       "    }\n",
       "\n",
       "    .dataframe thead th {\n",
       "        text-align: right;\n",
       "    }\n",
       "</style>\n",
       "<table border=\"1\" class=\"dataframe\">\n",
       "  <thead>\n",
       "    <tr style=\"text-align: right;\">\n",
       "      <th></th>\n",
       "      <th>x</th>\n",
       "      <th>y</th>\n",
       "    </tr>\n",
       "  </thead>\n",
       "  <tbody>\n",
       "    <tr>\n",
       "      <th>count</th>\n",
       "      <td>142.000000</td>\n",
       "      <td>142.000000</td>\n",
       "    </tr>\n",
       "    <tr>\n",
       "      <th>mean</th>\n",
       "      <td>54.266100</td>\n",
       "      <td>47.834721</td>\n",
       "    </tr>\n",
       "    <tr>\n",
       "      <th>std</th>\n",
       "      <td>16.769825</td>\n",
       "      <td>26.939743</td>\n",
       "    </tr>\n",
       "    <tr>\n",
       "      <th>min</th>\n",
       "      <td>15.560750</td>\n",
       "      <td>0.015119</td>\n",
       "    </tr>\n",
       "    <tr>\n",
       "      <th>25%</th>\n",
       "      <td>39.724115</td>\n",
       "      <td>24.625892</td>\n",
       "    </tr>\n",
       "    <tr>\n",
       "      <th>50%</th>\n",
       "      <td>53.340296</td>\n",
       "      <td>47.535269</td>\n",
       "    </tr>\n",
       "    <tr>\n",
       "      <th>75%</th>\n",
       "      <td>69.146597</td>\n",
       "      <td>71.803148</td>\n",
       "    </tr>\n",
       "    <tr>\n",
       "      <th>max</th>\n",
       "      <td>91.639961</td>\n",
       "      <td>97.475771</td>\n",
       "    </tr>\n",
       "  </tbody>\n",
       "</table>\n",
       "</div>"
      ],
      "text/plain": [
       "                x           y\n",
       "count  142.000000  142.000000\n",
       "mean    54.266100   47.834721\n",
       "std     16.769825   26.939743\n",
       "min     15.560750    0.015119\n",
       "25%     39.724115   24.625892\n",
       "50%     53.340296   47.535269\n",
       "75%     69.146597   71.803148\n",
       "max     91.639961   97.475771"
      ]
     },
     "execution_count": 122,
     "metadata": {},
     "output_type": "execute_result"
    }
   ],
   "source": [
    "away.describe()"
   ]
  },
  {
   "cell_type": "code",
   "execution_count": 124,
   "id": "71dd5562",
   "metadata": {},
   "outputs": [],
   "source": [
    "## Dataset source: https://www.autodesk.com/content/dam/autodesk/www/autodesk-reasearch/Publications/pdf/SameStatsCode.zip\n",
    "## Concept: https://www.autodesk.com/research/publications/same-stats-different-graphs"
   ]
  }
 ],
 "metadata": {
  "kernelspec": {
   "display_name": "Python 3",
   "language": "python",
   "name": "python3"
  },
  "language_info": {
   "codemirror_mode": {
    "name": "ipython",
    "version": 3
   },
   "file_extension": ".py",
   "mimetype": "text/x-python",
   "name": "python",
   "nbconvert_exporter": "python",
   "pygments_lexer": "ipython3",
   "version": "3.8.8"
  }
 },
 "nbformat": 4,
 "nbformat_minor": 5
}
