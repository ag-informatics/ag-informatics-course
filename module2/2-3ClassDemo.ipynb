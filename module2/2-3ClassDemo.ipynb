{
 "cells": [
  {
   "cell_type": "code",
   "execution_count": 1,
   "id": "12284b98",
   "metadata": {},
   "outputs": [],
   "source": [
    "import numpy as np\n",
    "import pandas as pd\n",
    "import matplotlib.pyplot as plt"
   ]
  },
  {
   "cell_type": "code",
   "execution_count": 3,
   "id": "760f776c",
   "metadata": {},
   "outputs": [
    {
     "data": {
      "text/html": [
       "<div>\n",
       "<style scoped>\n",
       "    .dataframe tbody tr th:only-of-type {\n",
       "        vertical-align: middle;\n",
       "    }\n",
       "\n",
       "    .dataframe tbody tr th {\n",
       "        vertical-align: top;\n",
       "    }\n",
       "\n",
       "    .dataframe thead th {\n",
       "        text-align: right;\n",
       "    }\n",
       "</style>\n",
       "<table border=\"1\" class=\"dataframe\">\n",
       "  <thead>\n",
       "    <tr style=\"text-align: right;\">\n",
       "      <th></th>\n",
       "      <th>dataset\\tx\\ty</th>\n",
       "    </tr>\n",
       "  </thead>\n",
       "  <tbody>\n",
       "    <tr>\n",
       "      <th>0</th>\n",
       "      <td>dino\\t55.3846\\t97.1795</td>\n",
       "    </tr>\n",
       "    <tr>\n",
       "      <th>1</th>\n",
       "      <td>dino\\t51.5385\\t96.0256</td>\n",
       "    </tr>\n",
       "    <tr>\n",
       "      <th>2</th>\n",
       "      <td>dino\\t46.1538\\t94.4872</td>\n",
       "    </tr>\n",
       "    <tr>\n",
       "      <th>3</th>\n",
       "      <td>dino\\t42.8205\\t91.4103</td>\n",
       "    </tr>\n",
       "    <tr>\n",
       "      <th>4</th>\n",
       "      <td>dino\\t40.7692\\t88.3333</td>\n",
       "    </tr>\n",
       "    <tr>\n",
       "      <th>...</th>\n",
       "      <td>...</td>\n",
       "    </tr>\n",
       "    <tr>\n",
       "      <th>1841</th>\n",
       "      <td>wide_lines\\t33.6744421497\\t26.09049021</td>\n",
       "    </tr>\n",
       "    <tr>\n",
       "      <th>1842</th>\n",
       "      <td>wide_lines\\t75.6272550236\\t37.128751949</td>\n",
       "    </tr>\n",
       "    <tr>\n",
       "      <th>1843</th>\n",
       "      <td>wide_lines\\t40.6101254225\\t89.1362398699</td>\n",
       "    </tr>\n",
       "    <tr>\n",
       "      <th>1844</th>\n",
       "      <td>wide_lines\\t39.1143664549\\t96.4817513202</td>\n",
       "    </tr>\n",
       "    <tr>\n",
       "      <th>1845</th>\n",
       "      <td>wide_lines\\t34.5838289299\\t89.5889019877</td>\n",
       "    </tr>\n",
       "  </tbody>\n",
       "</table>\n",
       "<p>1846 rows × 1 columns</p>\n",
       "</div>"
      ],
      "text/plain": [
       "                                 dataset\\tx\\ty\n",
       "0                       dino\\t55.3846\\t97.1795\n",
       "1                       dino\\t51.5385\\t96.0256\n",
       "2                       dino\\t46.1538\\t94.4872\n",
       "3                       dino\\t42.8205\\t91.4103\n",
       "4                       dino\\t40.7692\\t88.3333\n",
       "...                                        ...\n",
       "1841    wide_lines\\t33.6744421497\\t26.09049021\n",
       "1842   wide_lines\\t75.6272550236\\t37.128751949\n",
       "1843  wide_lines\\t40.6101254225\\t89.1362398699\n",
       "1844  wide_lines\\t39.1143664549\\t96.4817513202\n",
       "1845  wide_lines\\t34.5838289299\\t89.5889019877\n",
       "\n",
       "[1846 rows x 1 columns]"
      ]
     },
     "execution_count": 3,
     "metadata": {},
     "output_type": "execute_result"
    }
   ],
   "source": [
    "datasaurus = pd.read_csv('DatasaurusDozen.tsv')\n",
    "datasaurus"
   ]
  },
  {
   "cell_type": "code",
   "execution_count": 4,
   "id": "0ef3b935",
   "metadata": {},
   "outputs": [
    {
     "data": {
      "text/html": [
       "<div>\n",
       "<style scoped>\n",
       "    .dataframe tbody tr th:only-of-type {\n",
       "        vertical-align: middle;\n",
       "    }\n",
       "\n",
       "    .dataframe tbody tr th {\n",
       "        vertical-align: top;\n",
       "    }\n",
       "\n",
       "    .dataframe thead th {\n",
       "        text-align: right;\n",
       "    }\n",
       "</style>\n",
       "<table border=\"1\" class=\"dataframe\">\n",
       "  <thead>\n",
       "    <tr style=\"text-align: right;\">\n",
       "      <th></th>\n",
       "      <th>dataset</th>\n",
       "      <th>x</th>\n",
       "      <th>y</th>\n",
       "    </tr>\n",
       "  </thead>\n",
       "  <tbody>\n",
       "    <tr>\n",
       "      <th>0</th>\n",
       "      <td>dino</td>\n",
       "      <td>55.384600</td>\n",
       "      <td>97.179500</td>\n",
       "    </tr>\n",
       "    <tr>\n",
       "      <th>1</th>\n",
       "      <td>dino</td>\n",
       "      <td>51.538500</td>\n",
       "      <td>96.025600</td>\n",
       "    </tr>\n",
       "    <tr>\n",
       "      <th>2</th>\n",
       "      <td>dino</td>\n",
       "      <td>46.153800</td>\n",
       "      <td>94.487200</td>\n",
       "    </tr>\n",
       "    <tr>\n",
       "      <th>3</th>\n",
       "      <td>dino</td>\n",
       "      <td>42.820500</td>\n",
       "      <td>91.410300</td>\n",
       "    </tr>\n",
       "    <tr>\n",
       "      <th>4</th>\n",
       "      <td>dino</td>\n",
       "      <td>40.769200</td>\n",
       "      <td>88.333300</td>\n",
       "    </tr>\n",
       "    <tr>\n",
       "      <th>...</th>\n",
       "      <td>...</td>\n",
       "      <td>...</td>\n",
       "      <td>...</td>\n",
       "    </tr>\n",
       "    <tr>\n",
       "      <th>1841</th>\n",
       "      <td>wide_lines</td>\n",
       "      <td>33.674442</td>\n",
       "      <td>26.090490</td>\n",
       "    </tr>\n",
       "    <tr>\n",
       "      <th>1842</th>\n",
       "      <td>wide_lines</td>\n",
       "      <td>75.627255</td>\n",
       "      <td>37.128752</td>\n",
       "    </tr>\n",
       "    <tr>\n",
       "      <th>1843</th>\n",
       "      <td>wide_lines</td>\n",
       "      <td>40.610125</td>\n",
       "      <td>89.136240</td>\n",
       "    </tr>\n",
       "    <tr>\n",
       "      <th>1844</th>\n",
       "      <td>wide_lines</td>\n",
       "      <td>39.114366</td>\n",
       "      <td>96.481751</td>\n",
       "    </tr>\n",
       "    <tr>\n",
       "      <th>1845</th>\n",
       "      <td>wide_lines</td>\n",
       "      <td>34.583829</td>\n",
       "      <td>89.588902</td>\n",
       "    </tr>\n",
       "  </tbody>\n",
       "</table>\n",
       "<p>1846 rows × 3 columns</p>\n",
       "</div>"
      ],
      "text/plain": [
       "         dataset          x          y\n",
       "0           dino  55.384600  97.179500\n",
       "1           dino  51.538500  96.025600\n",
       "2           dino  46.153800  94.487200\n",
       "3           dino  42.820500  91.410300\n",
       "4           dino  40.769200  88.333300\n",
       "...          ...        ...        ...\n",
       "1841  wide_lines  33.674442  26.090490\n",
       "1842  wide_lines  75.627255  37.128752\n",
       "1843  wide_lines  40.610125  89.136240\n",
       "1844  wide_lines  39.114366  96.481751\n",
       "1845  wide_lines  34.583829  89.588902\n",
       "\n",
       "[1846 rows x 3 columns]"
      ]
     },
     "execution_count": 4,
     "metadata": {},
     "output_type": "execute_result"
    }
   ],
   "source": [
    "datasaurus = pd.read_csv('DatasaurusDozen.tsv', sep='\\t')\n",
    "datasaurus"
   ]
  },
  {
   "cell_type": "code",
   "execution_count": 5,
   "id": "45135c78",
   "metadata": {},
   "outputs": [
    {
     "data": {
      "text/plain": [
       "array(['dino', 'away', 'h_lines', 'v_lines', 'x_shape', 'star',\n",
       "       'high_lines', 'dots', 'circle', 'bullseye', 'slant_up',\n",
       "       'slant_down', 'wide_lines'], dtype=object)"
      ]
     },
     "execution_count": 5,
     "metadata": {},
     "output_type": "execute_result"
    }
   ],
   "source": [
    "datasaurus['dataset'].unique()"
   ]
  },
  {
   "cell_type": "code",
   "execution_count": 6,
   "id": "d1f3c86b",
   "metadata": {},
   "outputs": [
    {
     "data": {
      "text/html": [
       "<div>\n",
       "<style scoped>\n",
       "    .dataframe tbody tr th:only-of-type {\n",
       "        vertical-align: middle;\n",
       "    }\n",
       "\n",
       "    .dataframe tbody tr th {\n",
       "        vertical-align: top;\n",
       "    }\n",
       "\n",
       "    .dataframe thead th {\n",
       "        text-align: right;\n",
       "    }\n",
       "</style>\n",
       "<table border=\"1\" class=\"dataframe\">\n",
       "  <thead>\n",
       "    <tr style=\"text-align: right;\">\n",
       "      <th></th>\n",
       "      <th>x</th>\n",
       "      <th>y</th>\n",
       "    </tr>\n",
       "  </thead>\n",
       "  <tbody>\n",
       "    <tr>\n",
       "      <th>count</th>\n",
       "      <td>1846.000000</td>\n",
       "      <td>1846.000000</td>\n",
       "    </tr>\n",
       "    <tr>\n",
       "      <th>mean</th>\n",
       "      <td>54.265695</td>\n",
       "      <td>47.835099</td>\n",
       "    </tr>\n",
       "    <tr>\n",
       "      <th>std</th>\n",
       "      <td>16.713001</td>\n",
       "      <td>26.847766</td>\n",
       "    </tr>\n",
       "    <tr>\n",
       "      <th>min</th>\n",
       "      <td>15.560750</td>\n",
       "      <td>0.015119</td>\n",
       "    </tr>\n",
       "    <tr>\n",
       "      <th>25%</th>\n",
       "      <td>41.073403</td>\n",
       "      <td>22.561073</td>\n",
       "    </tr>\n",
       "    <tr>\n",
       "      <th>50%</th>\n",
       "      <td>52.591269</td>\n",
       "      <td>47.594450</td>\n",
       "    </tr>\n",
       "    <tr>\n",
       "      <th>75%</th>\n",
       "      <td>67.277845</td>\n",
       "      <td>71.810778</td>\n",
       "    </tr>\n",
       "    <tr>\n",
       "      <th>max</th>\n",
       "      <td>98.288123</td>\n",
       "      <td>99.694680</td>\n",
       "    </tr>\n",
       "  </tbody>\n",
       "</table>\n",
       "</div>"
      ],
      "text/plain": [
       "                 x            y\n",
       "count  1846.000000  1846.000000\n",
       "mean     54.265695    47.835099\n",
       "std      16.713001    26.847766\n",
       "min      15.560750     0.015119\n",
       "25%      41.073403    22.561073\n",
       "50%      52.591269    47.594450\n",
       "75%      67.277845    71.810778\n",
       "max      98.288123    99.694680"
      ]
     },
     "execution_count": 6,
     "metadata": {},
     "output_type": "execute_result"
    }
   ],
   "source": [
    "datasaurus.describe()"
   ]
  },
  {
   "cell_type": "code",
   "execution_count": 10,
   "id": "13c20d5c",
   "metadata": {},
   "outputs": [
    {
     "data": {
      "text/html": [
       "<div>\n",
       "<style scoped>\n",
       "    .dataframe tbody tr th:only-of-type {\n",
       "        vertical-align: middle;\n",
       "    }\n",
       "\n",
       "    .dataframe tbody tr th {\n",
       "        vertical-align: top;\n",
       "    }\n",
       "\n",
       "    .dataframe thead th {\n",
       "        text-align: right;\n",
       "    }\n",
       "</style>\n",
       "<table border=\"1\" class=\"dataframe\">\n",
       "  <thead>\n",
       "    <tr style=\"text-align: right;\">\n",
       "      <th></th>\n",
       "      <th>dataset</th>\n",
       "      <th>x</th>\n",
       "      <th>y</th>\n",
       "    </tr>\n",
       "  </thead>\n",
       "  <tbody>\n",
       "    <tr>\n",
       "      <th>0</th>\n",
       "      <td>dino</td>\n",
       "      <td>55.3846</td>\n",
       "      <td>97.1795</td>\n",
       "    </tr>\n",
       "    <tr>\n",
       "      <th>1</th>\n",
       "      <td>dino</td>\n",
       "      <td>51.5385</td>\n",
       "      <td>96.0256</td>\n",
       "    </tr>\n",
       "    <tr>\n",
       "      <th>2</th>\n",
       "      <td>dino</td>\n",
       "      <td>46.1538</td>\n",
       "      <td>94.4872</td>\n",
       "    </tr>\n",
       "    <tr>\n",
       "      <th>3</th>\n",
       "      <td>dino</td>\n",
       "      <td>42.8205</td>\n",
       "      <td>91.4103</td>\n",
       "    </tr>\n",
       "    <tr>\n",
       "      <th>4</th>\n",
       "      <td>dino</td>\n",
       "      <td>40.7692</td>\n",
       "      <td>88.3333</td>\n",
       "    </tr>\n",
       "    <tr>\n",
       "      <th>...</th>\n",
       "      <td>...</td>\n",
       "      <td>...</td>\n",
       "      <td>...</td>\n",
       "    </tr>\n",
       "    <tr>\n",
       "      <th>137</th>\n",
       "      <td>dino</td>\n",
       "      <td>39.4872</td>\n",
       "      <td>25.3846</td>\n",
       "    </tr>\n",
       "    <tr>\n",
       "      <th>138</th>\n",
       "      <td>dino</td>\n",
       "      <td>91.2821</td>\n",
       "      <td>41.5385</td>\n",
       "    </tr>\n",
       "    <tr>\n",
       "      <th>139</th>\n",
       "      <td>dino</td>\n",
       "      <td>50.0000</td>\n",
       "      <td>95.7692</td>\n",
       "    </tr>\n",
       "    <tr>\n",
       "      <th>140</th>\n",
       "      <td>dino</td>\n",
       "      <td>47.9487</td>\n",
       "      <td>95.0000</td>\n",
       "    </tr>\n",
       "    <tr>\n",
       "      <th>141</th>\n",
       "      <td>dino</td>\n",
       "      <td>44.1026</td>\n",
       "      <td>92.6923</td>\n",
       "    </tr>\n",
       "  </tbody>\n",
       "</table>\n",
       "<p>142 rows × 3 columns</p>\n",
       "</div>"
      ],
      "text/plain": [
       "    dataset        x        y\n",
       "0      dino  55.3846  97.1795\n",
       "1      dino  51.5385  96.0256\n",
       "2      dino  46.1538  94.4872\n",
       "3      dino  42.8205  91.4103\n",
       "4      dino  40.7692  88.3333\n",
       "..      ...      ...      ...\n",
       "137    dino  39.4872  25.3846\n",
       "138    dino  91.2821  41.5385\n",
       "139    dino  50.0000  95.7692\n",
       "140    dino  47.9487  95.0000\n",
       "141    dino  44.1026  92.6923\n",
       "\n",
       "[142 rows x 3 columns]"
      ]
     },
     "execution_count": 10,
     "metadata": {},
     "output_type": "execute_result"
    }
   ],
   "source": [
    "dino = datasaurus[datasaurus.dataset=='dino']\n",
    "dino"
   ]
  },
  {
   "cell_type": "code",
   "execution_count": 12,
   "id": "158c93cb",
   "metadata": {},
   "outputs": [
    {
     "data": {
      "text/html": [
       "<div>\n",
       "<style scoped>\n",
       "    .dataframe tbody tr th:only-of-type {\n",
       "        vertical-align: middle;\n",
       "    }\n",
       "\n",
       "    .dataframe tbody tr th {\n",
       "        vertical-align: top;\n",
       "    }\n",
       "\n",
       "    .dataframe thead th {\n",
       "        text-align: right;\n",
       "    }\n",
       "</style>\n",
       "<table border=\"1\" class=\"dataframe\">\n",
       "  <thead>\n",
       "    <tr style=\"text-align: right;\">\n",
       "      <th></th>\n",
       "      <th>x</th>\n",
       "      <th>y</th>\n",
       "    </tr>\n",
       "  </thead>\n",
       "  <tbody>\n",
       "    <tr>\n",
       "      <th>0</th>\n",
       "      <td>55.3846</td>\n",
       "      <td>97.1795</td>\n",
       "    </tr>\n",
       "    <tr>\n",
       "      <th>1</th>\n",
       "      <td>51.5385</td>\n",
       "      <td>96.0256</td>\n",
       "    </tr>\n",
       "    <tr>\n",
       "      <th>2</th>\n",
       "      <td>46.1538</td>\n",
       "      <td>94.4872</td>\n",
       "    </tr>\n",
       "    <tr>\n",
       "      <th>3</th>\n",
       "      <td>42.8205</td>\n",
       "      <td>91.4103</td>\n",
       "    </tr>\n",
       "    <tr>\n",
       "      <th>4</th>\n",
       "      <td>40.7692</td>\n",
       "      <td>88.3333</td>\n",
       "    </tr>\n",
       "    <tr>\n",
       "      <th>...</th>\n",
       "      <td>...</td>\n",
       "      <td>...</td>\n",
       "    </tr>\n",
       "    <tr>\n",
       "      <th>137</th>\n",
       "      <td>39.4872</td>\n",
       "      <td>25.3846</td>\n",
       "    </tr>\n",
       "    <tr>\n",
       "      <th>138</th>\n",
       "      <td>91.2821</td>\n",
       "      <td>41.5385</td>\n",
       "    </tr>\n",
       "    <tr>\n",
       "      <th>139</th>\n",
       "      <td>50.0000</td>\n",
       "      <td>95.7692</td>\n",
       "    </tr>\n",
       "    <tr>\n",
       "      <th>140</th>\n",
       "      <td>47.9487</td>\n",
       "      <td>95.0000</td>\n",
       "    </tr>\n",
       "    <tr>\n",
       "      <th>141</th>\n",
       "      <td>44.1026</td>\n",
       "      <td>92.6923</td>\n",
       "    </tr>\n",
       "  </tbody>\n",
       "</table>\n",
       "<p>142 rows × 2 columns</p>\n",
       "</div>"
      ],
      "text/plain": [
       "           x        y\n",
       "0    55.3846  97.1795\n",
       "1    51.5385  96.0256\n",
       "2    46.1538  94.4872\n",
       "3    42.8205  91.4103\n",
       "4    40.7692  88.3333\n",
       "..       ...      ...\n",
       "137  39.4872  25.3846\n",
       "138  91.2821  41.5385\n",
       "139  50.0000  95.7692\n",
       "140  47.9487  95.0000\n",
       "141  44.1026  92.6923\n",
       "\n",
       "[142 rows x 2 columns]"
      ]
     },
     "execution_count": 12,
     "metadata": {},
     "output_type": "execute_result"
    }
   ],
   "source": [
    "#dino = dino.drop(columns='dataset')\n",
    "dino = datasaurus[datasaurus.dataset=='dino'].drop(columns='dataset')\n",
    "dino\n"
   ]
  },
  {
   "cell_type": "code",
   "execution_count": 15,
   "id": "489f1e7a",
   "metadata": {},
   "outputs": [],
   "source": [
    "# Seperate all the datasets\n",
    "\n",
    "dino = datasaurus[datasaurus.dataset=='dino'].drop(columns='dataset')\n",
    "away = datasaurus[datasaurus.dataset=='away'].drop(columns='dataset')\n",
    "h_lines = datasaurus[datasaurus.dataset=='h_lines'].drop(columns='dataset')\n",
    "v_lines = datasaurus[datasaurus.dataset=='v_lines'].drop(columns='dataset')\n",
    "x_shape = datasaurus[datasaurus.dataset=='x_shape'].drop(columns='dataset')\n",
    "star = datasaurus[datasaurus.dataset=='star'].drop(columns='dataset')\n",
    "high_lines = datasaurus[datasaurus.dataset=='high_lines'].drop(columns='dataset')\n",
    "circle = datasaurus[datasaurus.dataset=='circle'].drop(columns='dataset')\n",
    "bullseye = datasaurus[datasaurus.dataset=='bullseye'].drop(columns='dataset')\n",
    "slant_up = datasaurus[datasaurus.dataset=='slant_up'].drop(columns='dataset')\n",
    "slant_down = datasaurus[datasaurus.dataset=='slant_down'].drop(columns='dataset')\n",
    "wide_lines = datasaurus[datasaurus.dataset=='wide_lines'].drop(columns='dataset')\n",
    "dots = datasaurus[datasaurus.dataset=='dots'].drop(columns='dataset')"
   ]
  },
  {
   "cell_type": "code",
   "execution_count": 16,
   "id": "4ff359b8",
   "metadata": {},
   "outputs": [
    {
     "data": {
      "text/html": [
       "<div>\n",
       "<style scoped>\n",
       "    .dataframe tbody tr th:only-of-type {\n",
       "        vertical-align: middle;\n",
       "    }\n",
       "\n",
       "    .dataframe tbody tr th {\n",
       "        vertical-align: top;\n",
       "    }\n",
       "\n",
       "    .dataframe thead th {\n",
       "        text-align: right;\n",
       "    }\n",
       "</style>\n",
       "<table border=\"1\" class=\"dataframe\">\n",
       "  <thead>\n",
       "    <tr style=\"text-align: right;\">\n",
       "      <th></th>\n",
       "      <th>x</th>\n",
       "      <th>y</th>\n",
       "    </tr>\n",
       "  </thead>\n",
       "  <tbody>\n",
       "    <tr>\n",
       "      <th>count</th>\n",
       "      <td>142.000000</td>\n",
       "      <td>142.000000</td>\n",
       "    </tr>\n",
       "    <tr>\n",
       "      <th>mean</th>\n",
       "      <td>54.263273</td>\n",
       "      <td>47.832253</td>\n",
       "    </tr>\n",
       "    <tr>\n",
       "      <th>std</th>\n",
       "      <td>16.765142</td>\n",
       "      <td>26.935403</td>\n",
       "    </tr>\n",
       "    <tr>\n",
       "      <th>min</th>\n",
       "      <td>22.307700</td>\n",
       "      <td>2.948700</td>\n",
       "    </tr>\n",
       "    <tr>\n",
       "      <th>25%</th>\n",
       "      <td>44.102600</td>\n",
       "      <td>25.288450</td>\n",
       "    </tr>\n",
       "    <tr>\n",
       "      <th>50%</th>\n",
       "      <td>53.333300</td>\n",
       "      <td>46.025600</td>\n",
       "    </tr>\n",
       "    <tr>\n",
       "      <th>75%</th>\n",
       "      <td>64.743600</td>\n",
       "      <td>68.525675</td>\n",
       "    </tr>\n",
       "    <tr>\n",
       "      <th>max</th>\n",
       "      <td>98.205100</td>\n",
       "      <td>99.487200</td>\n",
       "    </tr>\n",
       "  </tbody>\n",
       "</table>\n",
       "</div>"
      ],
      "text/plain": [
       "                x           y\n",
       "count  142.000000  142.000000\n",
       "mean    54.263273   47.832253\n",
       "std     16.765142   26.935403\n",
       "min     22.307700    2.948700\n",
       "25%     44.102600   25.288450\n",
       "50%     53.333300   46.025600\n",
       "75%     64.743600   68.525675\n",
       "max     98.205100   99.487200"
      ]
     },
     "execution_count": 16,
     "metadata": {},
     "output_type": "execute_result"
    }
   ],
   "source": [
    "# Check data stats\n",
    "dino.describe()"
   ]
  },
  {
   "cell_type": "code",
   "execution_count": 22,
   "id": "809ea2db",
   "metadata": {},
   "outputs": [
    {
     "name": "stdout",
     "output_type": "stream",
     "text": [
      "                x           y\n",
      "count  142.000000  142.000000\n",
      "mean    54.266100   47.834721\n",
      "std     16.769825   26.939743\n",
      "min     15.560750    0.015119\n",
      "25%     39.724115   24.625892\n",
      "50%     53.340296   47.535269\n",
      "75%     69.146597   71.803148\n",
      "max     91.639961   97.475771\n",
      "                x           y\n",
      "count  142.000000  142.000000\n",
      "mean    54.260303   47.839829\n",
      "std     16.767735   26.930192\n",
      "min     25.443526   15.771892\n",
      "25%     50.359707   17.107141\n",
      "50%     50.976768   51.299291\n",
      "75%     75.197363   82.881589\n",
      "max     77.954435   94.249328\n",
      "                x           y\n",
      "count  142.000000  142.000000\n",
      "mean    54.267320   47.837717\n",
      "std     16.760013   26.930036\n",
      "min     21.863581   16.326546\n",
      "25%     43.379116   18.349610\n",
      "50%     54.023213   51.025022\n",
      "75%     64.972672   77.782382\n",
      "max     85.664761   85.578134\n"
     ]
    }
   ],
   "source": [
    "print(away.describe())\n",
    "print(dots.describe())\n",
    "print(circle.describe())"
   ]
  },
  {
   "cell_type": "code",
   "execution_count": 24,
   "id": "5adde410",
   "metadata": {},
   "outputs": [
    {
     "name": "stdout",
     "output_type": "stream",
     "text": [
      "h_lines\n"
     ]
    },
    {
     "data": {
      "text/plain": [
       "<matplotlib.collections.PathCollection at 0x7f91f89ba580>"
      ]
     },
     "execution_count": 24,
     "metadata": {},
     "output_type": "execute_result"
    },
    {
     "data": {
      "image/png": "[encoded data removed]",
      "text/plain": [
       "<Figure size 432x288 with 1 Axes>"
      ]
     },
     "metadata": {
      "needs_background": "light"
     },
     "output_type": "display_data"
    }
   ],
   "source": [
    "print(\"h_lines\")\n",
    "fig, ax = plt.subplots()\n",
    "ax.scatter(h_lines.x,h_lines.y)"
   ]
  },
  {
   "cell_type": "code",
   "execution_count": 25,
   "id": "b2fb16b2",
   "metadata": {},
   "outputs": [
    {
     "name": "stdout",
     "output_type": "stream",
     "text": [
      "away\n",
      "h_lines\n",
      "v_lines\n",
      "x_shape\n",
      "star\n",
      "high_lines\n",
      "dots\n",
      "circle\n",
      "bullseye\n",
      "slant_up\n",
      "slant_down\n",
      "wide_lines\n"
     ]
    },
    {
     "data": {
      "text/plain": [
       "<matplotlib.collections.PathCollection at 0x7f91f8e7fe80>"
      ]
     },
     "execution_count": 25,
     "metadata": {},
     "output_type": "execute_result"
    },
    {
     "data": {
      "image/png": "[encoded data removed]",
      "text/plain": [
       "<Figure size 432x288 with 1 Axes>"
      ]
     },
     "metadata": {
      "needs_background": "light"
     },
     "output_type": "display_data"
    },
    {
     "data": {
      "image/png": "[encoded data removed]",
      "text/plain": [
       "<Figure size 432x288 with 1 Axes>"
      ]
     },
     "metadata": {
      "needs_background": "light"
     },
     "output_type": "display_data"
    },
    {
     "data": {
      "image/png": "[encoded data removed]",
      "text/plain": [
       "<Figure size 432x288 with 1 Axes>"
      ]
     },
     "metadata": {
      "needs_background": "light"
     },
     "output_type": "display_data"
    },
    {
     "data": {
      "image/png": "[encoded data removed]",
      "text/plain": [
       "<Figure size 432x288 with 1 Axes>"
      ]
     },
     "metadata": {
      "needs_background": "light"
     },
     "output_type": "display_data"
    },
    {
     "data": {
      "image/png": "[encoded data removed]",
      "text/plain": [
       "<Figure size 432x288 with 1 Axes>"
      ]
     },
     "metadata": {
      "needs_background": "light"
     },
     "output_type": "display_data"
    },
    {
     "data": {
      "image/png": "[encoded data removed]",
      "text/plain": [
       "<Figure size 432x288 with 1 Axes>"
      ]
     },
     "metadata": {
      "needs_background": "light"
     },
     "output_type": "display_data"
    },
    {
     "data": {
      "image/png": "[encoded data removed]",
      "text/plain": [
       "<Figure size 432x288 with 1 Axes>"
      ]
     },
     "metadata": {
      "needs_background": "light"
     },
     "output_type": "display_data"
    },
    {
     "data": {
      "image/png": "[encoded data removed]",
      "text/plain": [
       "<Figure size 432x288 with 1 Axes>"
      ]
     },
     "metadata": {
      "needs_background": "light"
     },
     "output_type": "display_data"
    },
    {
     "data": {
      "image/png": "[encoded data removed]",
      "text/plain": [
       "<Figure size 432x288 with 1 Axes>"
      ]
     },
     "metadata": {
      "needs_background": "light"
     },
     "output_type": "display_data"
    },
    {
     "data": {
      "image/png": "[encoded data removed]",
      "text/plain": [
       "<Figure size 432x288 with 1 Axes>"
      ]
     },
     "metadata": {
      "needs_background": "light"
     },
     "output_type": "display_data"
    },
    {
     "data": {
      "image/png": "[encoded data removed]",
      "text/plain": [
       "<Figure size 432x288 with 1 Axes>"
      ]
     },
     "metadata": {
      "needs_background": "light"
     },
     "output_type": "display_data"
    },
    {
     "data": {
      "image/png": "[encoded data removed]",
      "text/plain": [
       "<Figure size 432x288 with 1 Axes>"
      ]
     },
     "metadata": {
      "needs_background": "light"
     },
     "output_type": "display_data"
    }
   ],
   "source": [
    "print(\"away\")\n",
    "fig, ax = plt.subplots()\n",
    "ax.scatter(away.x,away.y)\n",
    "print(\"h_lines\")\n",
    "fig, ax = plt.subplots()\n",
    "ax.scatter(h_lines.x,h_lines.y)\n",
    "print(\"v_lines\")\n",
    "fig, ax = plt.subplots()\n",
    "ax.scatter(v_lines.x,v_lines.y)\n",
    "print(\"x_shape\")\n",
    "fig, ax = plt.subplots()\n",
    "ax.scatter(x_shape.x,x_shape.y)\n",
    "print(\"star\")\n",
    "fig, ax = plt.subplots()\n",
    "ax.scatter(star.x,star.y)\n",
    "print(\"high_lines\")\n",
    "fig, ax = plt.subplots()\n",
    "ax.scatter(high_lines.x,high_lines.y)\n",
    "print(\"dots\")\n",
    "fig, ax = plt.subplots()\n",
    "ax.scatter(dots.x,dots.y)\n",
    "print(\"circle\")\n",
    "fig, ax = plt.subplots()\n",
    "ax.scatter(circle.x,circle.y)\n",
    "print(\"bullseye\")\n",
    "fig, ax = plt.subplots()\n",
    "ax.scatter(bullseye.x,bullseye.y)\n",
    "print(\"slant_up\")\n",
    "fig, ax = plt.subplots()\n",
    "ax.scatter(slant_up.x,slant_up.y)\n",
    "print(\"slant_down\")\n",
    "fig, ax = plt.subplots()\n",
    "ax.scatter(slant_down.x,slant_down.y)\n",
    "print(\"wide_lines\")\n",
    "fig, ax = plt.subplots()\n",
    "ax.scatter(wide_lines.x,wide_lines.y)"
   ]
  },
  {
   "cell_type": "code",
   "execution_count": 26,
   "id": "3a00433c",
   "metadata": {},
   "outputs": [
    {
     "name": "stdout",
     "output_type": "stream",
     "text": [
      "dino\n"
     ]
    },
    {
     "data": {
      "text/plain": [
       "<matplotlib.collections.PathCollection at 0x7f91f96092e0>"
      ]
     },
     "execution_count": 26,
     "metadata": {},
     "output_type": "execute_result"
    },
    {
     "data": {
      "image/png": "[encoded data removed]",
      "text/plain": [
       "<Figure size 432x288 with 1 Axes>"
      ]
     },
     "metadata": {
      "needs_background": "light"
     },
     "output_type": "display_data"
    }
   ],
   "source": [
    "print(\"dino\")\n",
    "fig, ax = plt.subplots()\n",
    "ax.scatter(dino.x,dino.y)"
   ]
  },
  {
   "cell_type": "code",
   "execution_count": null,
   "id": "794cfd66",
   "metadata": {},
   "outputs": [],
   "source": []
  }
 ],
 "metadata": {
  "kernelspec": {
   "display_name": "Python 3",
   "language": "python",
   "name": "python3"
  },
  "language_info": {
   "codemirror_mode": {
    "name": "ipython",
    "version": 3
   },
   "file_extension": ".py",
   "mimetype": "text/x-python",
   "name": "python",
   "nbconvert_exporter": "python",
   "pygments_lexer": "ipython3",
   "version": "3.8.8"
  }
 },
 "nbformat": 4,
 "nbformat_minor": 5
}
